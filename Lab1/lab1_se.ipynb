{
 "cells": [
  {
   "cell_type": "code",
   "execution_count": 3,
   "id": "initial_id",
   "metadata": {
    "collapsed": true,
    "ExecuteTime": {
     "end_time": "2023-09-19T07:54:39.789576413Z",
     "start_time": "2023-09-19T07:54:39.781052320Z"
    }
   },
   "outputs": [],
   "source": [
    "import pandas as pd"
   ]
  },
  {
   "cell_type": "code",
   "execution_count": 4,
   "outputs": [
    {
     "name": "stdout",
     "output_type": "stream",
     "text": [
      "Collecting openpyxl\r\n",
      "  Downloading openpyxl-3.1.2-py2.py3-none-any.whl (249 kB)\r\n",
      "\u001B[2K     \u001B[90m━━━━━━━━━━━━━━━━━━━━━━━━━━━━━━━━━━━━━\u001B[0m \u001B[32m250.0/250.0 kB\u001B[0m \u001B[31m518.7 kB/s\u001B[0m eta \u001B[36m0:00:00\u001B[0m00:01\u001B[0m00:01\u001B[0m\r\n",
      "\u001B[?25hRequirement already satisfied: pandas in ./venv/lib/python3.11/site-packages (2.1.0)\r\n",
      "Collecting et-xmlfile\r\n",
      "  Downloading et_xmlfile-1.1.0-py3-none-any.whl (4.7 kB)\r\n",
      "Requirement already satisfied: numpy>=1.23.2 in ./venv/lib/python3.11/site-packages (from pandas) (1.26.0)\r\n",
      "Requirement already satisfied: python-dateutil>=2.8.2 in ./venv/lib/python3.11/site-packages (from pandas) (2.8.2)\r\n",
      "Requirement already satisfied: pytz>=2020.1 in ./venv/lib/python3.11/site-packages (from pandas) (2023.3.post1)\r\n",
      "Requirement already satisfied: tzdata>=2022.1 in ./venv/lib/python3.11/site-packages (from pandas) (2023.3)\r\n",
      "Requirement already satisfied: six>=1.5 in ./venv/lib/python3.11/site-packages (from python-dateutil>=2.8.2->pandas) (1.16.0)\r\n",
      "Installing collected packages: et-xmlfile, openpyxl\r\n",
      "Successfully installed et-xmlfile-1.1.0 openpyxl-3.1.2\r\n",
      "\r\n",
      "\u001B[1m[\u001B[0m\u001B[34;49mnotice\u001B[0m\u001B[1;39;49m]\u001B[0m\u001B[39;49m A new release of pip available: \u001B[0m\u001B[31;49m22.3.1\u001B[0m\u001B[39;49m -> \u001B[0m\u001B[32;49m23.2.1\u001B[0m\r\n",
      "\u001B[1m[\u001B[0m\u001B[34;49mnotice\u001B[0m\u001B[1;39;49m]\u001B[0m\u001B[39;49m To update, run: \u001B[0m\u001B[32;49mpip install --upgrade pip\u001B[0m\r\n"
     ]
    }
   ],
   "source": [
    "!pip install openpyxl pandas"
   ],
   "metadata": {
    "collapsed": false,
    "ExecuteTime": {
     "end_time": "2023-09-19T07:55:07.667112239Z",
     "start_time": "2023-09-19T07:55:00.532327860Z"
    }
   },
   "id": "95fa5201f2abc77f"
  },
  {
   "cell_type": "code",
   "execution_count": 10,
   "outputs": [],
   "source": [
    "pd.set_option('display.width', 1000)\n"
   ],
   "metadata": {
    "collapsed": false,
    "ExecuteTime": {
     "end_time": "2023-09-19T07:58:50.391494157Z",
     "start_time": "2023-09-19T07:58:50.345205827Z"
    }
   },
   "id": "e0bb1b02fdf1a47f"
  },
  {
   "cell_type": "code",
   "execution_count": 11,
   "outputs": [],
   "source": [
    "# This should be left as is \n",
    "xls = pd.ExcelFile('Test Files.xlsx')\n",
    "# Loads data for each class as separate dataframe \n",
    "# TODO: Rename this to something that makes sense\n",
    "class_3b = pd.read_excel(xls, '3B')\n",
    "class_3c = pd.read_excel(xls, '3C')"
   ],
   "metadata": {
    "collapsed": false,
    "ExecuteTime": {
     "end_time": "2023-09-19T07:58:52.836154066Z",
     "start_time": "2023-09-19T07:58:52.136783925Z"
    }
   },
   "id": "452582fe9ac22f9a"
  },
  {
   "cell_type": "code",
   "execution_count": 13,
   "outputs": [
    {
     "name": "stdout",
     "output_type": "stream",
     "text": [
      "   No.  Student Number                     Student Name        DoB  Email Address Gender\n",
      "0    1          144234        Abwoga, Adrian Jared Paul 2000-06-17            NaN      M\n",
      "1    2          145587  Akong'o, Shanelle Hilda Anyango 2001-11-14            NaN      F\n",
      "2    3          145401             Ang'edu, Jude Ocomil 2003-08-21            NaN      M\n",
      "3    4          140801               Arunga, Kyla Neema 2003-10-26            NaN      F\n",
      "4    5          137357   Atenya, Anthony Magunga Ikobwa 2002-03-17            NaN      M\n",
      "    No.  Student Number                 Student Name        DoB  Email Address Gender\n",
      "54   55          145770         Wahu, Bridget Makena 2002-04-10            NaN      F\n",
      "55   56          145369       Wango, Michael Mundati 2002-12-06            NaN      M\n",
      "56   57          137938      Wangombe, Martin Mwangi 2002-08-08            NaN      M\n",
      "57   58          145838       Wanyonyi, Brian Newton 2002-02-17            NaN      M\n",
      "58   59          138616  Wasike, Nicole Jones Nekesa 2003-11-20            NaN      F\n"
     ]
    }
   ],
   "source": [
    "#(cae)  I think this should be left as is to show the working\n",
    "print(class_3b.head())\n",
    "print(class_3c.tail())\n"
   ],
   "metadata": {
    "collapsed": false,
    "ExecuteTime": {
     "end_time": "2023-09-19T07:59:04.285594979Z",
     "start_time": "2023-09-19T07:59:04.272304561Z"
    }
   },
   "id": "fa96561873b3bb92"
  },
  {
   "cell_type": "code",
   "execution_count": 34,
   "outputs": [
    {
     "name": "stdout",
     "output_type": "stream",
     "text": [
      "    No.  Student Number                     Student Name        DoB       Email Address Gender\n",
      "0     1          144234        Abwoga, Adrian Jared Paul 2000-06-17     apaul@gmail.com      M\n",
      "1     2          145587  Akong'o, Shanelle Hilda Anyango 2001-11-14  aanyango@gmail.com      F\n",
      "2     3          145401             Ang'edu, Jude Ocomil 2003-08-21   aocomil@gmail.com      M\n",
      "3     4          140801               Arunga, Kyla Neema 2003-10-26    aneema@gmail.com      F\n",
      "4     5          137357   Atenya, Anthony Magunga Ikobwa 2002-03-17   aikobwa@gmail.com      M\n",
      "..  ...             ...                              ...        ...                 ...    ...\n",
      "59   60          143621             Wachira, Joy Muthoni 2001-08-07  wmuthoni@gmail.com      F\n",
      "60   61          146360           Wakaba, Rosemary Njeri 2000-01-11    wnjeri@gmail.com      F\n",
      "61   62          124342             Wanjao, Louis Mbugua 2001-04-20   wmbugua@gmail.com      M\n",
      "62   63          145356           Waweru, Monika Ng'endo 2002-05-20   wngendo@gmail.com      F\n",
      "63   64          137931           Waweru, Trevor Kariuki 2002-04-19  wkariuki@gmail.com      M\n",
      "\n",
      "[64 rows x 6 columns]\n"
     ]
    }
   ],
   "source": [
    "\n",
    "#TODO: What should be implemented here \n",
    "#  1. A function that accepts a dataframe\n",
    "#  2. and returns a dataframe that contains an email\n",
    "#  \n",
    "# You can try to use regular expressions for the matching.\n",
    "# TIP: Try looping to dataframes and doing it in place instead of storing it in a \n",
    "# list and appending.\n",
    "\n",
    "names = class_3b[\"Student Name\"]\n",
    "# import re\n",
    "# \n",
    "# m = re.compile(\"[^a-z].*\")\n",
    "import string\n",
    "\n",
    "email_list = []\n",
    "for name in names:\n",
    "    full_name = name.split(\" \")\n",
    "    first_name = full_name[0].lower()\n",
    "    last_name = full_name[-1].lower()\n",
    "\n",
    "    # clean_first_name = \"\"\n",
    "    # for char in first_name:\n",
    "    #     if char in string.ascii_lowercase:\n",
    "    #         clean_first_name += char\n",
    "\n",
    "    # TODO: Check for uniqueness in emails\n",
    "    clean_last_name = \"\".join(char for char in last_name if char.isalnum())\n",
    "\n",
    "    email_list.append(first_name[0] + clean_last_name + \"@gmail.com\")\n",
    "\n",
    "class_3b[\"Email Address\"] = email_list\n",
    "print(class_3b)"
   ],
   "metadata": {
    "collapsed": false,
    "ExecuteTime": {
     "end_time": "2023-09-19T08:24:46.613039036Z",
     "start_time": "2023-09-19T08:24:46.607466076Z"
    }
   },
   "id": "97df8d7605b45870"
  },
  {
   "cell_type": "code",
   "execution_count": 36,
   "outputs": [],
   "source": [
    "def save_to_file(df: pd.DataFrame, path: str):\n",
    "    \"\"\"\n",
    "    Save a file as csv and tsv format \n",
    "    :param df: The dataframe for which we are saving data\n",
    "    :param path: The path to file, should be the absolute path.\n",
    "    :return: None\n",
    "    \"\"\"\n",
    "    df.to_csv(f\"{path}.csv\")\n",
    "    df.to_csv(f\"{path}.tsv\", sep=\"\\t\")"
   ],
   "metadata": {
    "collapsed": false,
    "ExecuteTime": {
     "end_time": "2023-09-19T08:29:34.710818839Z",
     "start_time": "2023-09-19T08:29:34.698131688Z"
    }
   },
   "id": "e453c64653773af7"
  },
  {
   "cell_type": "code",
   "execution_count": 42,
   "outputs": [],
   "source": [
    "# TODO:\n",
    "# This should be a function , takes a single dataframe, returns a tuple/list\n",
    "# syntax \n",
    "# def get_genders(dataFrame): -> (pd.Dataframe, pd.Dataframe)\n",
    "#\n",
    "class_3c_c = class_3c\n",
    "\n",
    "females_class = class_3c_c[class_3c_c[\"Gender\"] == \"F\"]\n",
    "males_class = class_3c_c[class_3c_c[\"Gender\"] == \"M\"]"
   ],
   "metadata": {
    "collapsed": false,
    "ExecuteTime": {
     "end_time": "2023-09-19T08:36:50.133817975Z",
     "start_time": "2023-09-19T08:36:50.121687363Z"
    }
   },
   "id": "80c7a6ef0ce8ec3a"
  },
  {
   "cell_type": "code",
   "execution_count": 77,
   "outputs": [
    {
     "data": {
      "text/plain": "    No.  Student Number                    Student Name        DoB  Email Address Gender\n0     1          136603            Adhiambo, Jane Daisy 2003-03-04            NaN      F\n1     2          142285  Ali, Sumeiya Abdulle Abdirizak 2002-05-01            NaN      F\n3     4          145210         Barasa, Michelle Nekesa 2000-06-25            NaN      F\n8     9          136046                 Frances, Ayango 2001-11-25            NaN      F\n9    10          146399           Gitau, Sandra Wanjiru 2003-01-11            NaN      F\n11   12          145279         Kabui, Michelle Miceere 2002-02-27            NaN      F\n12   13          145491          Kamau, Edinah Nyambura 2003-02-08            NaN      F\n14   15          146013           Karani, Amanda Ngendo 2002-12-23            NaN      F\n16   17          145802         Kennedy, Angel Venoliah 2001-12-25            NaN      F\n18   19          137503  Kiiru, Cynthia Everlyn Muthoni 2001-12-05            NaN      F\n20   21          128576                 Kinegeni, Terry 2000-12-09            NaN      F\n21   22          145602           Kyalo, Felicia Mutheu 2001-03-03            NaN      F\n29   30          138583           Muchiri, Lynn Wairimu 2001-07-22            NaN      F\n31   32          140091        Mukiri, Maryanne Wanjiku 2000-10-13            NaN      F\n34   35          139133     Mutende, Arabella Fanisheba 2002-05-06            NaN      F\n36   37          146016              Mwago, Megan Dette 2001-08-14            NaN      F\n38   39          145646      Nalugala, Venessa Chebukwa 2001-11-13            NaN      F\n39   40          145813       Ndirangu, Denise Nyambura 2002-12-08            NaN      F\n41   42          141733             Ngari, Sifa Gathoni 2003-06-15            NaN      F\n44   45          145536         Nyang'or, Olive Menorah 2002-07-12            NaN      F\n47   48          146533         Omondi, Winfred Achieng 2000-06-18            NaN      F\n50   51          146413       Rotich, Mercy Chepngetich 2003-07-10            NaN      F\n54   55          145770            Wahu, Bridget Makena 2002-04-10            NaN      F\n58   59          138616     Wasike, Nicole Jones Nekesa 2003-11-20            NaN      F",
      "text/html": "<div>\n<style scoped>\n    .dataframe tbody tr th:only-of-type {\n        vertical-align: middle;\n    }\n\n    .dataframe tbody tr th {\n        vertical-align: top;\n    }\n\n    .dataframe thead th {\n        text-align: right;\n    }\n</style>\n<table border=\"1\" class=\"dataframe\">\n  <thead>\n    <tr style=\"text-align: right;\">\n      <th></th>\n      <th>No.</th>\n      <th>Student Number</th>\n      <th>Student Name</th>\n      <th>DoB</th>\n      <th>Email Address</th>\n      <th>Gender</th>\n    </tr>\n  </thead>\n  <tbody>\n    <tr>\n      <th>0</th>\n      <td>1</td>\n      <td>136603</td>\n      <td>Adhiambo, Jane Daisy</td>\n      <td>2003-03-04</td>\n      <td>NaN</td>\n      <td>F</td>\n    </tr>\n    <tr>\n      <th>1</th>\n      <td>2</td>\n      <td>142285</td>\n      <td>Ali, Sumeiya Abdulle Abdirizak</td>\n      <td>2002-05-01</td>\n      <td>NaN</td>\n      <td>F</td>\n    </tr>\n    <tr>\n      <th>3</th>\n      <td>4</td>\n      <td>145210</td>\n      <td>Barasa, Michelle Nekesa</td>\n      <td>2000-06-25</td>\n      <td>NaN</td>\n      <td>F</td>\n    </tr>\n    <tr>\n      <th>8</th>\n      <td>9</td>\n      <td>136046</td>\n      <td>Frances, Ayango</td>\n      <td>2001-11-25</td>\n      <td>NaN</td>\n      <td>F</td>\n    </tr>\n    <tr>\n      <th>9</th>\n      <td>10</td>\n      <td>146399</td>\n      <td>Gitau, Sandra Wanjiru</td>\n      <td>2003-01-11</td>\n      <td>NaN</td>\n      <td>F</td>\n    </tr>\n    <tr>\n      <th>11</th>\n      <td>12</td>\n      <td>145279</td>\n      <td>Kabui, Michelle Miceere</td>\n      <td>2002-02-27</td>\n      <td>NaN</td>\n      <td>F</td>\n    </tr>\n    <tr>\n      <th>12</th>\n      <td>13</td>\n      <td>145491</td>\n      <td>Kamau, Edinah Nyambura</td>\n      <td>2003-02-08</td>\n      <td>NaN</td>\n      <td>F</td>\n    </tr>\n    <tr>\n      <th>14</th>\n      <td>15</td>\n      <td>146013</td>\n      <td>Karani, Amanda Ngendo</td>\n      <td>2002-12-23</td>\n      <td>NaN</td>\n      <td>F</td>\n    </tr>\n    <tr>\n      <th>16</th>\n      <td>17</td>\n      <td>145802</td>\n      <td>Kennedy, Angel Venoliah</td>\n      <td>2001-12-25</td>\n      <td>NaN</td>\n      <td>F</td>\n    </tr>\n    <tr>\n      <th>18</th>\n      <td>19</td>\n      <td>137503</td>\n      <td>Kiiru, Cynthia Everlyn Muthoni</td>\n      <td>2001-12-05</td>\n      <td>NaN</td>\n      <td>F</td>\n    </tr>\n    <tr>\n      <th>20</th>\n      <td>21</td>\n      <td>128576</td>\n      <td>Kinegeni, Terry</td>\n      <td>2000-12-09</td>\n      <td>NaN</td>\n      <td>F</td>\n    </tr>\n    <tr>\n      <th>21</th>\n      <td>22</td>\n      <td>145602</td>\n      <td>Kyalo, Felicia Mutheu</td>\n      <td>2001-03-03</td>\n      <td>NaN</td>\n      <td>F</td>\n    </tr>\n    <tr>\n      <th>29</th>\n      <td>30</td>\n      <td>138583</td>\n      <td>Muchiri, Lynn Wairimu</td>\n      <td>2001-07-22</td>\n      <td>NaN</td>\n      <td>F</td>\n    </tr>\n    <tr>\n      <th>31</th>\n      <td>32</td>\n      <td>140091</td>\n      <td>Mukiri, Maryanne Wanjiku</td>\n      <td>2000-10-13</td>\n      <td>NaN</td>\n      <td>F</td>\n    </tr>\n    <tr>\n      <th>34</th>\n      <td>35</td>\n      <td>139133</td>\n      <td>Mutende, Arabella Fanisheba</td>\n      <td>2002-05-06</td>\n      <td>NaN</td>\n      <td>F</td>\n    </tr>\n    <tr>\n      <th>36</th>\n      <td>37</td>\n      <td>146016</td>\n      <td>Mwago, Megan Dette</td>\n      <td>2001-08-14</td>\n      <td>NaN</td>\n      <td>F</td>\n    </tr>\n    <tr>\n      <th>38</th>\n      <td>39</td>\n      <td>145646</td>\n      <td>Nalugala, Venessa Chebukwa</td>\n      <td>2001-11-13</td>\n      <td>NaN</td>\n      <td>F</td>\n    </tr>\n    <tr>\n      <th>39</th>\n      <td>40</td>\n      <td>145813</td>\n      <td>Ndirangu, Denise Nyambura</td>\n      <td>2002-12-08</td>\n      <td>NaN</td>\n      <td>F</td>\n    </tr>\n    <tr>\n      <th>41</th>\n      <td>42</td>\n      <td>141733</td>\n      <td>Ngari, Sifa Gathoni</td>\n      <td>2003-06-15</td>\n      <td>NaN</td>\n      <td>F</td>\n    </tr>\n    <tr>\n      <th>44</th>\n      <td>45</td>\n      <td>145536</td>\n      <td>Nyang'or, Olive Menorah</td>\n      <td>2002-07-12</td>\n      <td>NaN</td>\n      <td>F</td>\n    </tr>\n    <tr>\n      <th>47</th>\n      <td>48</td>\n      <td>146533</td>\n      <td>Omondi, Winfred Achieng</td>\n      <td>2000-06-18</td>\n      <td>NaN</td>\n      <td>F</td>\n    </tr>\n    <tr>\n      <th>50</th>\n      <td>51</td>\n      <td>146413</td>\n      <td>Rotich, Mercy Chepngetich</td>\n      <td>2003-07-10</td>\n      <td>NaN</td>\n      <td>F</td>\n    </tr>\n    <tr>\n      <th>54</th>\n      <td>55</td>\n      <td>145770</td>\n      <td>Wahu, Bridget Makena</td>\n      <td>2002-04-10</td>\n      <td>NaN</td>\n      <td>F</td>\n    </tr>\n    <tr>\n      <th>58</th>\n      <td>59</td>\n      <td>138616</td>\n      <td>Wasike, Nicole Jones Nekesa</td>\n      <td>2003-11-20</td>\n      <td>NaN</td>\n      <td>F</td>\n    </tr>\n  </tbody>\n</table>\n</div>"
     },
     "execution_count": 77,
     "metadata": {},
     "output_type": "execute_result"
    }
   ],
   "source": [
    "females_class"
   ],
   "metadata": {
    "collapsed": false,
    "ExecuteTime": {
     "end_time": "2023-09-19T09:28:54.221195349Z",
     "start_time": "2023-09-19T09:28:54.122412615Z"
    }
   },
   "id": "d2ee4b6df7e6cfad"
  },
  {
   "cell_type": "code",
   "execution_count": 44,
   "outputs": [
    {
     "data": {
      "text/plain": "    No.  Student Number                 Student Name        DoB  Email Address Gender\n2     3          146072          Asava, Wayne Majani 2002-11-03            NaN      M\n4     5          143496          Bigingi, Ian Duncan 2003-04-19            NaN      M\n5     6          146171        Cheboi, Lormotum Noel 2000-07-21            NaN      M\n6     7          145835         Dulo, Humphrey James 2002-04-22            NaN      M\n7     8          146565         Etemesi, Caleb Asira 2003-02-04            NaN      M\n10   11          146424           Hassan, Masoud Ali 2001-09-22            NaN      M\n13   14          137991          Kamau, Jesse Mbugua 2003-08-14            NaN      M\n15   16          145212       Kathurima, Ryan Kinoti 2000-04-28            NaN      M\n17   18          136395            Kiilu, Jeff Kioko 2002-12-28            NaN      M\n19   20          141690          Kimani, Alex Mwangi 2002-06-18            NaN      M\n22   23          138216   Leting, Sylvester Kiplagat 2003-12-15            NaN      M\n23   24          139991           Lihanda, Glen Musa 2003-11-26            NaN      M\n24   25          144915          Mahia, Jerome Kamau 2003-11-26            NaN      M\n25   26          115104       Mbugua, Nathan Ng'ethe 2002-06-26            NaN      M\n26   27          139074  Mbwanga, Emmanuel Chivunira 2002-11-07            NaN      M\n27   28           92313        Moire, Henry Nyakundi 2003-04-07            NaN      M\n28   29          129029        Morara, Keith Matwere 2000-08-26            NaN      M\n30   31          144338    Mugendi, Emmanuel Muthomi 2000-08-16            NaN      M\n32   33          145351              Mungai, Kihanya 2000-09-10            NaN      M\n33   34          145836         Musyoka, Brian Kioko 2002-07-10            NaN      M\n35   36          145703         Mutinda, Bryan Lwaya 2003-06-01            NaN      M\n37   38          145041             Mwai, David King 2000-02-28            NaN      M\n40   41          139149         Ngahu, David Gitonga 2000-08-09            NaN      M\n42   43          134321      Nguthiru, Edwin Ndiritu 2001-01-04            NaN      M\n43   44          145354       Nyamosi, Edmond Omwega 2001-04-12            NaN      M\n45   46          122993                 Omal, Warren 2003-07-08            NaN      M\n46   47          145182     Omondi, Emmanuel Neville 2003-11-16            NaN      M\n48   49          131778           Otao, Davis Mokora 2001-06-04            NaN      M\n49   50          146202     Rintaugu, Mugambi Nteere 2000-05-28            NaN      M\n51   52          146254          Sehmi, Singh Jeevan 2001-01-24            NaN      M\n52   53          144914       Vasani, Aman Upinkumar 2002-12-26            NaN      M\n53   54          135361        Wafula, Gideon Simiyu 2003-12-15            NaN      M\n55   56          145369       Wango, Michael Mundati 2002-12-06            NaN      M\n56   57          137938      Wangombe, Martin Mwangi 2002-08-08            NaN      M\n57   58          145838       Wanyonyi, Brian Newton 2002-02-17            NaN      M",
      "text/html": "<div>\n<style scoped>\n    .dataframe tbody tr th:only-of-type {\n        vertical-align: middle;\n    }\n\n    .dataframe tbody tr th {\n        vertical-align: top;\n    }\n\n    .dataframe thead th {\n        text-align: right;\n    }\n</style>\n<table border=\"1\" class=\"dataframe\">\n  <thead>\n    <tr style=\"text-align: right;\">\n      <th></th>\n      <th>No.</th>\n      <th>Student Number</th>\n      <th>Student Name</th>\n      <th>DoB</th>\n      <th>Email Address</th>\n      <th>Gender</th>\n    </tr>\n  </thead>\n  <tbody>\n    <tr>\n      <th>2</th>\n      <td>3</td>\n      <td>146072</td>\n      <td>Asava, Wayne Majani</td>\n      <td>2002-11-03</td>\n      <td>NaN</td>\n      <td>M</td>\n    </tr>\n    <tr>\n      <th>4</th>\n      <td>5</td>\n      <td>143496</td>\n      <td>Bigingi, Ian Duncan</td>\n      <td>2003-04-19</td>\n      <td>NaN</td>\n      <td>M</td>\n    </tr>\n    <tr>\n      <th>5</th>\n      <td>6</td>\n      <td>146171</td>\n      <td>Cheboi, Lormotum Noel</td>\n      <td>2000-07-21</td>\n      <td>NaN</td>\n      <td>M</td>\n    </tr>\n    <tr>\n      <th>6</th>\n      <td>7</td>\n      <td>145835</td>\n      <td>Dulo, Humphrey James</td>\n      <td>2002-04-22</td>\n      <td>NaN</td>\n      <td>M</td>\n    </tr>\n    <tr>\n      <th>7</th>\n      <td>8</td>\n      <td>146565</td>\n      <td>Etemesi, Caleb Asira</td>\n      <td>2003-02-04</td>\n      <td>NaN</td>\n      <td>M</td>\n    </tr>\n    <tr>\n      <th>10</th>\n      <td>11</td>\n      <td>146424</td>\n      <td>Hassan, Masoud Ali</td>\n      <td>2001-09-22</td>\n      <td>NaN</td>\n      <td>M</td>\n    </tr>\n    <tr>\n      <th>13</th>\n      <td>14</td>\n      <td>137991</td>\n      <td>Kamau, Jesse Mbugua</td>\n      <td>2003-08-14</td>\n      <td>NaN</td>\n      <td>M</td>\n    </tr>\n    <tr>\n      <th>15</th>\n      <td>16</td>\n      <td>145212</td>\n      <td>Kathurima, Ryan Kinoti</td>\n      <td>2000-04-28</td>\n      <td>NaN</td>\n      <td>M</td>\n    </tr>\n    <tr>\n      <th>17</th>\n      <td>18</td>\n      <td>136395</td>\n      <td>Kiilu, Jeff Kioko</td>\n      <td>2002-12-28</td>\n      <td>NaN</td>\n      <td>M</td>\n    </tr>\n    <tr>\n      <th>19</th>\n      <td>20</td>\n      <td>141690</td>\n      <td>Kimani, Alex Mwangi</td>\n      <td>2002-06-18</td>\n      <td>NaN</td>\n      <td>M</td>\n    </tr>\n    <tr>\n      <th>22</th>\n      <td>23</td>\n      <td>138216</td>\n      <td>Leting, Sylvester Kiplagat</td>\n      <td>2003-12-15</td>\n      <td>NaN</td>\n      <td>M</td>\n    </tr>\n    <tr>\n      <th>23</th>\n      <td>24</td>\n      <td>139991</td>\n      <td>Lihanda, Glen Musa</td>\n      <td>2003-11-26</td>\n      <td>NaN</td>\n      <td>M</td>\n    </tr>\n    <tr>\n      <th>24</th>\n      <td>25</td>\n      <td>144915</td>\n      <td>Mahia, Jerome Kamau</td>\n      <td>2003-11-26</td>\n      <td>NaN</td>\n      <td>M</td>\n    </tr>\n    <tr>\n      <th>25</th>\n      <td>26</td>\n      <td>115104</td>\n      <td>Mbugua, Nathan Ng'ethe</td>\n      <td>2002-06-26</td>\n      <td>NaN</td>\n      <td>M</td>\n    </tr>\n    <tr>\n      <th>26</th>\n      <td>27</td>\n      <td>139074</td>\n      <td>Mbwanga, Emmanuel Chivunira</td>\n      <td>2002-11-07</td>\n      <td>NaN</td>\n      <td>M</td>\n    </tr>\n    <tr>\n      <th>27</th>\n      <td>28</td>\n      <td>92313</td>\n      <td>Moire, Henry Nyakundi</td>\n      <td>2003-04-07</td>\n      <td>NaN</td>\n      <td>M</td>\n    </tr>\n    <tr>\n      <th>28</th>\n      <td>29</td>\n      <td>129029</td>\n      <td>Morara, Keith Matwere</td>\n      <td>2000-08-26</td>\n      <td>NaN</td>\n      <td>M</td>\n    </tr>\n    <tr>\n      <th>30</th>\n      <td>31</td>\n      <td>144338</td>\n      <td>Mugendi, Emmanuel Muthomi</td>\n      <td>2000-08-16</td>\n      <td>NaN</td>\n      <td>M</td>\n    </tr>\n    <tr>\n      <th>32</th>\n      <td>33</td>\n      <td>145351</td>\n      <td>Mungai, Kihanya</td>\n      <td>2000-09-10</td>\n      <td>NaN</td>\n      <td>M</td>\n    </tr>\n    <tr>\n      <th>33</th>\n      <td>34</td>\n      <td>145836</td>\n      <td>Musyoka, Brian Kioko</td>\n      <td>2002-07-10</td>\n      <td>NaN</td>\n      <td>M</td>\n    </tr>\n    <tr>\n      <th>35</th>\n      <td>36</td>\n      <td>145703</td>\n      <td>Mutinda, Bryan Lwaya</td>\n      <td>2003-06-01</td>\n      <td>NaN</td>\n      <td>M</td>\n    </tr>\n    <tr>\n      <th>37</th>\n      <td>38</td>\n      <td>145041</td>\n      <td>Mwai, David King</td>\n      <td>2000-02-28</td>\n      <td>NaN</td>\n      <td>M</td>\n    </tr>\n    <tr>\n      <th>40</th>\n      <td>41</td>\n      <td>139149</td>\n      <td>Ngahu, David Gitonga</td>\n      <td>2000-08-09</td>\n      <td>NaN</td>\n      <td>M</td>\n    </tr>\n    <tr>\n      <th>42</th>\n      <td>43</td>\n      <td>134321</td>\n      <td>Nguthiru, Edwin Ndiritu</td>\n      <td>2001-01-04</td>\n      <td>NaN</td>\n      <td>M</td>\n    </tr>\n    <tr>\n      <th>43</th>\n      <td>44</td>\n      <td>145354</td>\n      <td>Nyamosi, Edmond Omwega</td>\n      <td>2001-04-12</td>\n      <td>NaN</td>\n      <td>M</td>\n    </tr>\n    <tr>\n      <th>45</th>\n      <td>46</td>\n      <td>122993</td>\n      <td>Omal, Warren</td>\n      <td>2003-07-08</td>\n      <td>NaN</td>\n      <td>M</td>\n    </tr>\n    <tr>\n      <th>46</th>\n      <td>47</td>\n      <td>145182</td>\n      <td>Omondi, Emmanuel Neville</td>\n      <td>2003-11-16</td>\n      <td>NaN</td>\n      <td>M</td>\n    </tr>\n    <tr>\n      <th>48</th>\n      <td>49</td>\n      <td>131778</td>\n      <td>Otao, Davis Mokora</td>\n      <td>2001-06-04</td>\n      <td>NaN</td>\n      <td>M</td>\n    </tr>\n    <tr>\n      <th>49</th>\n      <td>50</td>\n      <td>146202</td>\n      <td>Rintaugu, Mugambi Nteere</td>\n      <td>2000-05-28</td>\n      <td>NaN</td>\n      <td>M</td>\n    </tr>\n    <tr>\n      <th>51</th>\n      <td>52</td>\n      <td>146254</td>\n      <td>Sehmi, Singh Jeevan</td>\n      <td>2001-01-24</td>\n      <td>NaN</td>\n      <td>M</td>\n    </tr>\n    <tr>\n      <th>52</th>\n      <td>53</td>\n      <td>144914</td>\n      <td>Vasani, Aman Upinkumar</td>\n      <td>2002-12-26</td>\n      <td>NaN</td>\n      <td>M</td>\n    </tr>\n    <tr>\n      <th>53</th>\n      <td>54</td>\n      <td>135361</td>\n      <td>Wafula, Gideon Simiyu</td>\n      <td>2003-12-15</td>\n      <td>NaN</td>\n      <td>M</td>\n    </tr>\n    <tr>\n      <th>55</th>\n      <td>56</td>\n      <td>145369</td>\n      <td>Wango, Michael Mundati</td>\n      <td>2002-12-06</td>\n      <td>NaN</td>\n      <td>M</td>\n    </tr>\n    <tr>\n      <th>56</th>\n      <td>57</td>\n      <td>137938</td>\n      <td>Wangombe, Martin Mwangi</td>\n      <td>2002-08-08</td>\n      <td>NaN</td>\n      <td>M</td>\n    </tr>\n    <tr>\n      <th>57</th>\n      <td>58</td>\n      <td>145838</td>\n      <td>Wanyonyi, Brian Newton</td>\n      <td>2002-02-17</td>\n      <td>NaN</td>\n      <td>M</td>\n    </tr>\n  </tbody>\n</table>\n</div>"
     },
     "execution_count": 44,
     "metadata": {},
     "output_type": "execute_result"
    }
   ],
   "source": [
    "males_class"
   ],
   "metadata": {
    "collapsed": false,
    "ExecuteTime": {
     "end_time": "2023-09-19T08:37:07.812390102Z",
     "start_time": "2023-09-19T08:37:07.778779545Z"
    }
   },
   "id": "a25d1185aeca8b3f"
  },
  {
   "cell_type": "code",
   "execution_count": 49,
   "outputs": [
    {
     "data": {
      "text/plain": "2     146072\n4     143496\n5     146171\n6     145835\n7     146565\n10    146424\n13    137991\n15    145212\n17    136395\n19    141690\n22    138216\n23    139991\n24    144915\n25    115104\n26    139074\n27     92313\n28    129029\n30    144338\n32    145351\n33    145836\n35    145703\n37    145041\n40    139149\n42    134321\n43    145354\n45    122993\n46    145182\n48    131778\n49    146202\n51    146254\n52    144914\n53    135361\n55    145369\n56    137938\n57    145838\nName: Student Number, dtype: int64"
     },
     "execution_count": 49,
     "metadata": {},
     "output_type": "execute_result"
    }
   ],
   "source": [
    "males_class[\"Student Number\"]"
   ],
   "metadata": {
    "collapsed": false,
    "ExecuteTime": {
     "end_time": "2023-09-19T08:41:29.333229164Z",
     "start_time": "2023-09-19T08:41:29.317165140Z"
    }
   },
   "id": "f96555e8e54574b7"
  },
  {
   "cell_type": "code",
   "execution_count": 1,
   "outputs": [
    {
     "ename": "NameError",
     "evalue": "name 'females_class' is not defined",
     "output_type": "error",
     "traceback": [
      "\u001B[0;31m---------------------------------------------------------------------------\u001B[0m",
      "\u001B[0;31mNameError\u001B[0m                                 Traceback (most recent call last)",
      "Cell \u001B[0;32mIn[1], line 6\u001B[0m\n\u001B[1;32m      1\u001B[0m \u001B[38;5;66;03m# BUG: This code isn't working, so whoever fixes it \u001B[39;00m\n\u001B[1;32m      2\u001B[0m \u001B[38;5;66;03m# should ensure it covers it\u001B[39;00m\n\u001B[1;32m      3\u001B[0m \u001B[38;5;66;03m# \u001B[39;00m\n\u001B[1;32m      4\u001B[0m \u001B[38;5;66;03m# The goal was to print the data with special characters\u001B[39;00m\n\u001B[1;32m      5\u001B[0m er \u001B[38;5;241m=\u001B[39m []\n\u001B[0;32m----> 6\u001B[0m \u001B[38;5;28;01mfor\u001B[39;00m name \u001B[38;5;129;01min\u001B[39;00m \u001B[43mfemales_class\u001B[49m[\u001B[38;5;124m\"\u001B[39m\u001B[38;5;124mStudent Name\u001B[39m\u001B[38;5;124m\"\u001B[39m]:\n\u001B[1;32m      7\u001B[0m     \u001B[38;5;28mprint\u001B[39m(name, string\u001B[38;5;241m.\u001B[39mpunctuation \u001B[38;5;129;01min\u001B[39;00m name)\n\u001B[1;32m      8\u001B[0m     er\u001B[38;5;241m.\u001B[39mappend(name\u001B[38;5;241m.\u001B[39m\u001B[38;5;21m__contains__\u001B[39m(string\u001B[38;5;241m.\u001B[39mpunctuation))\n",
      "\u001B[0;31mNameError\u001B[0m: name 'females_class' is not defined"
     ]
    }
   ],
   "source": [
    "# BUG: This code isn't working, so whoever fixes it \n",
    "# should ensure it covers it\n",
    "# \n",
    "# The goal was to print the data with special characters\n",
    "er = []\n",
    "for name in females_class[\"Student Name\"]:\n",
    "    print(name, string.punctuation in name)\n",
    "    er.append(name.__contains__(string.punctuation))\n",
    "\n",
    "print(er)"
   ],
   "metadata": {
    "collapsed": false,
    "ExecuteTime": {
     "end_time": "2023-09-21T07:54:00.593110330Z",
     "start_time": "2023-09-21T07:54:00.517370084Z"
    }
   },
   "id": "f0582d3c44a1008e"
  },
  {
   "cell_type": "code",
   "execution_count": 2,
   "outputs": [
    {
     "name": "stdout",
     "output_type": "stream",
     "text": [
      "Collecting sentence-transformers\r\n",
      "  Downloading sentence-transformers-2.2.2.tar.gz (85 kB)\r\n",
      "\u001B[2K     \u001B[90m━━━━━━━━━━━━━━━━━━━━━━━━━━━━━━━━━━━━━━━\u001B[0m \u001B[32m86.0/86.0 kB\u001B[0m \u001B[31m174.2 kB/s\u001B[0m eta \u001B[36m0:00:00\u001B[0ma \u001B[36m0:00:01\u001B[0m\r\n",
      "\u001B[?25h  Preparing metadata (setup.py) ... \u001B[?25ldone\r\n",
      "\u001B[?25hCollecting transformers<5.0.0,>=4.6.0\r\n",
      "  Downloading transformers-4.33.2-py3-none-any.whl (7.6 MB)\r\n",
      "\u001B[2K     \u001B[90m━━━━━━━━━━━━━━━━━━━━━━━━━━━━━━━━━━━━━━━━\u001B[0m \u001B[32m7.6/7.6 MB\u001B[0m \u001B[31m183.8 kB/s\u001B[0m eta \u001B[36m0:00:00\u001B[0m00:01\u001B[0m00:02\u001B[0m\r\n",
      "\u001B[?25hCollecting tqdm\r\n",
      "  Downloading tqdm-4.66.1-py3-none-any.whl (78 kB)\r\n",
      "\u001B[2K     \u001B[90m━━━━━━━━━━━━━━━━━━━━━━━━━━━━━━━━━━━━━━━\u001B[0m \u001B[32m78.3/78.3 kB\u001B[0m \u001B[31m257.6 kB/s\u001B[0m eta \u001B[36m0:00:00\u001B[0ma \u001B[36m0:00:01\u001B[0m\r\n",
      "\u001B[?25hCollecting torch>=1.6.0\r\n",
      "  Downloading torch-2.0.1-cp311-cp311-manylinux1_x86_64.whl (619.9 MB)\r\n",
      "\u001B[2K     \u001B[91m━━━━━\u001B[0m\u001B[90m╺\u001B[0m\u001B[90m━━━━━━━━━━━━━━━━━━━━━━━━━━━━━━━━━\u001B[0m \u001B[32m82.0/619.9 MB\u001B[0m \u001B[31m65.3 kB/s\u001B[0m eta \u001B[36m2:17:16\u001B[0m^C\r\n",
      "\u001B[2K     \u001B[91m━━━━━\u001B[0m\u001B[90m╺\u001B[0m\u001B[90m━━━━━━━━━━━━━━━━━━━━━━━━━━━━━━━━━\u001B[0m \u001B[32m82.0/619.9 MB\u001B[0m \u001B[31m65.3 kB/s\u001B[0m eta \u001B[36m2:17:16\u001B[0m\r\n",
      "\u001B[?25h\u001B[31mERROR: Operation cancelled by user\u001B[0m\u001B[31m\r\n",
      "\u001B[0m"
     ]
    }
   ],
   "source": [
    "!pip install -U sentence-transformersa"
   ],
   "metadata": {
    "collapsed": false,
    "ExecuteTime": {
     "end_time": "2023-09-21T08:05:50.106117428Z",
     "start_time": "2023-09-21T07:54:12.348491161Z"
    }
   },
   "id": "b80ee34c71dac81c"
  },
  {
   "cell_type": "code",
   "execution_count": 67,
   "outputs": [
    {
     "data": {
      "text/plain": "    No.  Student Number               Student Name        DoB       Email Address Gender\n32   33          145351            Mungai, Kihanya 2000-09-10                 NaN      M\n50   51          138897  Ochanda, Steven Joel Jona 2000-04-02     ojona@gmail.com      M\n41   42          141733        Ngari, Sifa Gathoni 2003-06-15                 NaN      F\n13   14          137766     Johnson, Myles Adebayo 2001-04-27  jadebayo@gmail.com      M\n61   62          124342       Wanjao, Louis Mbugua 2001-04-20   wmbugua@gmail.com      M\n..  ...             ...                        ...        ...                 ...    ...\n0     1          136603       Adhiambo, Jane Daisy 2003-03-04                 NaN      F\n53   54          124965      Ombongi, Caleb Magare 2002-09-27   omagare@gmail.com      M\n56   57          141756           Patel, Jay Hirji 2003-06-25    phirji@gmail.com      M\n16   17          145802    Kennedy, Angel Venoliah 2001-12-25                 NaN      F\n11   12          145279    Kabui, Michelle Miceere 2002-02-27                 NaN      F\n\n[123 rows x 6 columns]",
      "text/html": "<div>\n<style scoped>\n    .dataframe tbody tr th:only-of-type {\n        vertical-align: middle;\n    }\n\n    .dataframe tbody tr th {\n        vertical-align: top;\n    }\n\n    .dataframe thead th {\n        text-align: right;\n    }\n</style>\n<table border=\"1\" class=\"dataframe\">\n  <thead>\n    <tr style=\"text-align: right;\">\n      <th></th>\n      <th>No.</th>\n      <th>Student Number</th>\n      <th>Student Name</th>\n      <th>DoB</th>\n      <th>Email Address</th>\n      <th>Gender</th>\n    </tr>\n  </thead>\n  <tbody>\n    <tr>\n      <th>32</th>\n      <td>33</td>\n      <td>145351</td>\n      <td>Mungai, Kihanya</td>\n      <td>2000-09-10</td>\n      <td>NaN</td>\n      <td>M</td>\n    </tr>\n    <tr>\n      <th>50</th>\n      <td>51</td>\n      <td>138897</td>\n      <td>Ochanda, Steven Joel Jona</td>\n      <td>2000-04-02</td>\n      <td>ojona@gmail.com</td>\n      <td>M</td>\n    </tr>\n    <tr>\n      <th>41</th>\n      <td>42</td>\n      <td>141733</td>\n      <td>Ngari, Sifa Gathoni</td>\n      <td>2003-06-15</td>\n      <td>NaN</td>\n      <td>F</td>\n    </tr>\n    <tr>\n      <th>13</th>\n      <td>14</td>\n      <td>137766</td>\n      <td>Johnson, Myles Adebayo</td>\n      <td>2001-04-27</td>\n      <td>jadebayo@gmail.com</td>\n      <td>M</td>\n    </tr>\n    <tr>\n      <th>61</th>\n      <td>62</td>\n      <td>124342</td>\n      <td>Wanjao, Louis Mbugua</td>\n      <td>2001-04-20</td>\n      <td>wmbugua@gmail.com</td>\n      <td>M</td>\n    </tr>\n    <tr>\n      <th>...</th>\n      <td>...</td>\n      <td>...</td>\n      <td>...</td>\n      <td>...</td>\n      <td>...</td>\n      <td>...</td>\n    </tr>\n    <tr>\n      <th>0</th>\n      <td>1</td>\n      <td>136603</td>\n      <td>Adhiambo, Jane Daisy</td>\n      <td>2003-03-04</td>\n      <td>NaN</td>\n      <td>F</td>\n    </tr>\n    <tr>\n      <th>53</th>\n      <td>54</td>\n      <td>124965</td>\n      <td>Ombongi, Caleb Magare</td>\n      <td>2002-09-27</td>\n      <td>omagare@gmail.com</td>\n      <td>M</td>\n    </tr>\n    <tr>\n      <th>56</th>\n      <td>57</td>\n      <td>141756</td>\n      <td>Patel, Jay Hirji</td>\n      <td>2003-06-25</td>\n      <td>phirji@gmail.com</td>\n      <td>M</td>\n    </tr>\n    <tr>\n      <th>16</th>\n      <td>17</td>\n      <td>145802</td>\n      <td>Kennedy, Angel Venoliah</td>\n      <td>2001-12-25</td>\n      <td>NaN</td>\n      <td>F</td>\n    </tr>\n    <tr>\n      <th>11</th>\n      <td>12</td>\n      <td>145279</td>\n      <td>Kabui, Michelle Miceere</td>\n      <td>2002-02-27</td>\n      <td>NaN</td>\n      <td>F</td>\n    </tr>\n  </tbody>\n</table>\n<p>123 rows × 6 columns</p>\n</div>"
     },
     "execution_count": 67,
     "metadata": {},
     "output_type": "execute_result"
    }
   ],
   "source": [
    "# concatenate both classes\n",
    "all_classes = pd.concat([class_3c, class_3b])\n",
    "# Shuffle names\n",
    "shuffled_class = all_classes.sample(frac=1)"
   ],
   "metadata": {
    "collapsed": false,
    "ExecuteTime": {
     "end_time": "2023-09-19T08:55:16.127399668Z",
     "start_time": "2023-09-19T08:55:16.074831904Z"
    }
   },
   "id": "6a1b0db540820a56"
  },
  {
   "cell_type": "code",
   "execution_count": 76,
   "outputs": [
    {
     "ename": "ValueError",
     "evalue": "cannot insert level_0, already exists",
     "output_type": "error",
     "traceback": [
      "\u001B[0;31m---------------------------------------------------------------------------\u001B[0m",
      "\u001B[0;31mValueError\u001B[0m                                Traceback (most recent call last)",
      "\u001B[0;32m/tmp/ipykernel_9762/1957880110.py\u001B[0m in \u001B[0;36m?\u001B[0;34m()\u001B[0m\n\u001B[1;32m      1\u001B[0m \u001B[0mall_classes\u001B[0m\u001B[0;34m.\u001B[0m\u001B[0mdrop_duplicates\u001B[0m\u001B[0;34m(\u001B[0m\u001B[0minplace\u001B[0m\u001B[0;34m=\u001B[0m\u001B[0;32mTrue\u001B[0m\u001B[0;34m)\u001B[0m\u001B[0;34m\u001B[0m\u001B[0;34m\u001B[0m\u001B[0m\n\u001B[0;32m----> 2\u001B[0;31m \u001B[0mall_classes\u001B[0m\u001B[0;34m.\u001B[0m\u001B[0mreset_index\u001B[0m\u001B[0;34m(\u001B[0m\u001B[0minplace\u001B[0m\u001B[0;34m=\u001B[0m\u001B[0;32mTrue\u001B[0m\u001B[0;34m)\u001B[0m\u001B[0;34m\u001B[0m\u001B[0;34m\u001B[0m\u001B[0m\n\u001B[0m\u001B[1;32m      3\u001B[0m \u001B[0;34m\u001B[0m\u001B[0m\n\u001B[1;32m      4\u001B[0m \u001B[0mall_classes\u001B[0m\u001B[0;34m\u001B[0m\u001B[0;34m\u001B[0m\u001B[0m\n\u001B[1;32m      5\u001B[0m \u001B[0;34m\u001B[0m\u001B[0m\n",
      "\u001B[0;32m~/school/ComputerGraphics/venv/lib/python3.11/site-packages/pandas/core/frame.py\u001B[0m in \u001B[0;36m?\u001B[0;34m(self, level, drop, inplace, col_level, col_fill, allow_duplicates, names)\u001B[0m\n\u001B[1;32m   6219\u001B[0m                     level_values = algorithms.take(\n\u001B[1;32m   6220\u001B[0m                         \u001B[0mlevel_values\u001B[0m\u001B[0;34m,\u001B[0m \u001B[0mlab\u001B[0m\u001B[0;34m,\u001B[0m \u001B[0mallow_fill\u001B[0m\u001B[0;34m=\u001B[0m\u001B[0;32mTrue\u001B[0m\u001B[0;34m,\u001B[0m \u001B[0mfill_value\u001B[0m\u001B[0;34m=\u001B[0m\u001B[0mlev\u001B[0m\u001B[0;34m.\u001B[0m\u001B[0m_na_value\u001B[0m\u001B[0;34m\u001B[0m\u001B[0;34m\u001B[0m\u001B[0m\n\u001B[1;32m   6221\u001B[0m                     )\n\u001B[1;32m   6222\u001B[0m \u001B[0;34m\u001B[0m\u001B[0m\n\u001B[0;32m-> 6223\u001B[0;31m                 new_obj.insert(\n\u001B[0m\u001B[1;32m   6224\u001B[0m                     \u001B[0;36m0\u001B[0m\u001B[0;34m,\u001B[0m\u001B[0;34m\u001B[0m\u001B[0;34m\u001B[0m\u001B[0m\n\u001B[1;32m   6225\u001B[0m                     \u001B[0mname\u001B[0m\u001B[0;34m,\u001B[0m\u001B[0;34m\u001B[0m\u001B[0;34m\u001B[0m\u001B[0m\n\u001B[1;32m   6226\u001B[0m                     \u001B[0mlevel_values\u001B[0m\u001B[0;34m,\u001B[0m\u001B[0;34m\u001B[0m\u001B[0;34m\u001B[0m\u001B[0m\n",
      "\u001B[0;32m~/school/ComputerGraphics/venv/lib/python3.11/site-packages/pandas/core/frame.py\u001B[0m in \u001B[0;36m?\u001B[0;34m(self, loc, column, value, allow_duplicates)\u001B[0m\n\u001B[1;32m   4930\u001B[0m                 \u001B[0;34m\"'self.flags.allows_duplicate_labels' is False.\"\u001B[0m\u001B[0;34m\u001B[0m\u001B[0;34m\u001B[0m\u001B[0m\n\u001B[1;32m   4931\u001B[0m             )\n\u001B[1;32m   4932\u001B[0m         \u001B[0;32mif\u001B[0m \u001B[0;32mnot\u001B[0m \u001B[0mallow_duplicates\u001B[0m \u001B[0;32mand\u001B[0m \u001B[0mcolumn\u001B[0m \u001B[0;32min\u001B[0m \u001B[0mself\u001B[0m\u001B[0;34m.\u001B[0m\u001B[0mcolumns\u001B[0m\u001B[0;34m:\u001B[0m\u001B[0;34m\u001B[0m\u001B[0;34m\u001B[0m\u001B[0m\n\u001B[1;32m   4933\u001B[0m             \u001B[0;31m# Should this be a different kind of error??\u001B[0m\u001B[0;34m\u001B[0m\u001B[0;34m\u001B[0m\u001B[0m\n\u001B[0;32m-> 4934\u001B[0;31m             \u001B[0;32mraise\u001B[0m \u001B[0mValueError\u001B[0m\u001B[0;34m(\u001B[0m\u001B[0;34mf\"cannot insert {column}, already exists\"\u001B[0m\u001B[0;34m)\u001B[0m\u001B[0;34m\u001B[0m\u001B[0;34m\u001B[0m\u001B[0m\n\u001B[0m\u001B[1;32m   4935\u001B[0m         \u001B[0;32mif\u001B[0m \u001B[0;32mnot\u001B[0m \u001B[0mis_integer\u001B[0m\u001B[0;34m(\u001B[0m\u001B[0mloc\u001B[0m\u001B[0;34m)\u001B[0m\u001B[0;34m:\u001B[0m\u001B[0;34m\u001B[0m\u001B[0;34m\u001B[0m\u001B[0m\n\u001B[1;32m   4936\u001B[0m             \u001B[0;32mraise\u001B[0m \u001B[0mTypeError\u001B[0m\u001B[0;34m(\u001B[0m\u001B[0;34m\"loc must be int\"\u001B[0m\u001B[0;34m)\u001B[0m\u001B[0;34m\u001B[0m\u001B[0;34m\u001B[0m\u001B[0m\n\u001B[1;32m   4937\u001B[0m         \u001B[0;31m# convert non stdlib ints to satisfy typing checks\u001B[0m\u001B[0;34m\u001B[0m\u001B[0;34m\u001B[0m\u001B[0m\n",
      "\u001B[0;31mValueError\u001B[0m: cannot insert level_0, already exists"
     ]
    }
   ],
   "source": [
    "# Save: the file\n",
    "# PS: The format is wrong, please, fix it:\n",
    "# With love :)  (cae) \n",
    "\n",
    "all_classes.drop_duplicates(inplace=True)\n",
    "all_classes.reset_index(inplace=True)\n",
    "\n",
    "all_classes\n",
    "\n",
    "all_classes.to_json(\"./all_classes.json\", orient=\"records\")\n",
    "\n",
    "# all_classes.to_json(\"./all_classes_line.json\",lines=True,orient='records')\n"
   ],
   "metadata": {
    "collapsed": false,
    "ExecuteTime": {
     "end_time": "2023-09-19T09:00:32.047770767Z",
     "start_time": "2023-09-19T09:00:32.024698524Z"
    }
   },
   "id": "be57aa5af3dae92e"
  }
 ],
 "metadata": {
  "kernelspec": {
   "display_name": "Python 3",
   "language": "python",
   "name": "python3"
  },
  "language_info": {
   "codemirror_mode": {
    "name": "ipython",
    "version": 2
   },
   "file_extension": ".py",
   "mimetype": "text/x-python",
   "name": "python",
   "nbconvert_exporter": "python",
   "pygments_lexer": "ipython2",
   "version": "2.7.6"
  }
 },
 "nbformat": 4,
 "nbformat_minor": 5
}
